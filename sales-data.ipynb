{
 "cells": [
  {
   "cell_type": "code",
   "execution_count": 113,
   "id": "45f7e292-ddc2-4758-9944-fcaf68d918d4",
   "metadata": {},
   "outputs": [],
   "source": [
    "import pandas as pd\n",
    "import numpy as np\n",
    "import matplotlib.pyplot as plt"
   ]
  },
  {
   "cell_type": "code",
   "execution_count": 115,
   "id": "53fe347c-ea7d-4494-b644-36f72269965c",
   "metadata": {},
   "outputs": [
    {
     "data": {
      "text/plain": [
       "(      invoice_no  customer_id         category  quantity    price  \\\n",
       " 0        I138884          229         Clothing         5  1500.40   \n",
       " 1        I317333         3433            Shoes         3  1800.51   \n",
       " 2        I127801          644         Clothing         1   300.08   \n",
       " 3        I173702         4900            Shoes         5  3000.85   \n",
       " 4        I337046         1089            Books         4    60.60   \n",
       " ...          ...          ...              ...       ...      ...   \n",
       " 99452    I219422         2344         Souvenir         5    58.65   \n",
       " 99453    I325143          172  Food & Beverage         2    10.46   \n",
       " 99454    I824010          425  Food & Beverage         2    10.46   \n",
       " 99455    I702964          577       Technology         4  4200.00   \n",
       " 99456    I232867           30         Souvenir         3    35.19   \n",
       " \n",
       "       payment_method invoice_date     shopping_mall  \n",
       " 0        Credit Card     5/8/2022            Kanyon  \n",
       " 1         Debit Card   12/12/2021    Forum Istanbul  \n",
       " 2               Cash    9/11/2021         Metrocity  \n",
       " 3        Credit Card   16/05/2021      Metropol AVM  \n",
       " 4               Cash   24/10/2021            Kanyon  \n",
       " ...              ...          ...               ...  \n",
       " 99452    Credit Card   21/09/2022            Kanyon  \n",
       " 99453           Cash   22/09/2021    Forum Istanbul  \n",
       " 99454     Debit Card   28/03/2021         Metrocity  \n",
       " 99455           Cash   16/03/2021      Istinye Park  \n",
       " 99456    Credit Card   15/10/2022  Mall of Istanbul  \n",
       " \n",
       " [99457 rows x 8 columns],\n",
       "        age first_name gender     id last_name\n",
       " 0     48.0   Nicholas      M      0    Flores\n",
       " 1      NaN    Jeffery      M      1      Rowe\n",
       " 2     57.0     Alexis      F      2    Benton\n",
       " 3     73.0        Amy      F      3   Johnson\n",
       " 4     20.0      David      M      4     Moore\n",
       " ...    ...        ...    ...    ...       ...\n",
       " 5186   NaN     Arthur      M   9428    Harris\n",
       " 5187   NaN      David      M   9494       Roy\n",
       " 5188  85.0     Thomas      M  10350    Turner\n",
       " 5189   NaN      April      F  10587   Sanchez\n",
       " 5190   NaN     Andrew      M  10934   Compton\n",
       " \n",
       " [5191 rows x 5 columns])"
      ]
     },
     "execution_count": 115,
     "metadata": {},
     "output_type": "execute_result"
    }
   ],
   "source": [
    "invoices_url = \"https://drive.google.com/uc?export=download&id=1_JUP1EYc4r1jgNpeLh7mMQxsKOsT-pcs\"\n",
    "customers_url = \"https://drive.google.com/uc?export=download&id=1n6ePaU-cPfzhBKnSeGeynAxR9IYmCS0w\"\n",
    "\n",
    "invoices = pd.read_csv(invoices_url)\n",
    "customers = pd.read_json(customers_url)\n",
    "\n",
    "invoices, customers"
   ]
  },
  {
   "cell_type": "code",
   "execution_count": 117,
   "id": "d9db49a2-837b-41ff-b681-8ca1e3eb42f2",
   "metadata": {},
   "outputs": [],
   "source": [
    "customers = customers.rename(columns={'id': 'customer_id'})\n",
    "merged = pd.merge(invoices, customers, on='customer_id', how='left')"
   ]
  },
  {
   "cell_type": "code",
   "execution_count": 119,
   "id": "0117feda-8bf7-463b-9e09-8050e6014076",
   "metadata": {},
   "outputs": [],
   "source": [
    "#EASY QUESTIONS"
   ]
  },
  {
   "cell_type": "code",
   "execution_count": 123,
   "id": "eb1df5b9-bcbf-4092-8695-3a815d85eb83",
   "metadata": {},
   "outputs": [
    {
     "name": "stdout",
     "output_type": "stream",
     "text": [
      "The number of unique customers is 5191.\n"
     ]
    }
   ],
   "source": [
    "#1. How many unique customers are in the dataset?\n",
    "unique_customers = customers['customer_id'].nunique()\n",
    "print(f\"The number of unique customers is {unique_customers}.\")"
   ]
  },
  {
   "cell_type": "code",
   "execution_count": 125,
   "id": "87580fff-58a8-44d2-a93d-0db6f2506123",
   "metadata": {},
   "outputs": [
    {
     "name": "stdout",
     "output_type": "stream",
     "text": [
      "The different unique categories of products are Clothing, Shoes, Books, Cosmetics, Food & Beverage, Toys, Technology, Souvenir. The number of unique categories is 8.\n"
     ]
    }
   ],
   "source": [
    "#2. What are the different categories of products available? How many unique categories are there?\n",
    "unique_categories = invoices['category'].unique()\n",
    "num_uni_cat = len(unique_categories)\n",
    "print(f\"The different unique categories of products are {', '.join(unique_categories)}. The number of unique categories is {num_uni_cat}.\")\n"
   ]
  },
  {
   "cell_type": "code",
   "execution_count": 127,
   "id": "d8f8f246-b393-46ce-b99e-0b6d33891d92",
   "metadata": {},
   "outputs": [
    {
     "name": "stdout",
     "output_type": "stream",
     "text": [
      "The most popular payment method is Cash and it was used 44447 times.\n"
     ]
    }
   ],
   "source": [
    "#3. Which payment method is the most popular? How many times was it used?\n",
    "pop_pay_method = invoices['payment_method'].mode()[0]\n",
    "pop_pay_count = invoices['payment_method'].value_counts().loc[pop_pay_method]\n",
    "print(f\"The most popular payment method is {pop_pay_method} and it was used {pop_pay_count} times.\")"
   ]
  },
  {
   "cell_type": "code",
   "execution_count": 169,
   "id": "39b5590e-3335-45d7-a26e-f05c98077e97",
   "metadata": {},
   "outputs": [],
   "source": [
    "#MEDIUM QUESTIONS"
   ]
  },
  {
   "cell_type": "code",
   "execution_count": 171,
   "id": "e24a4d0f-e0f4-4f37-b4ce-635c1d4e8d82",
   "metadata": {},
   "outputs": [
    {
     "name": "stdout",
     "output_type": "stream",
     "text": [
      "The three most popular categories by total sales are ['Clothing', 'Shoes', 'Technology'].\n"
     ]
    }
   ],
   "source": [
    "#1. What are the three most popular categories, by total sales?\n",
    "#Based on the overview, we can assume that the price in the invoice is equivalent to the total sales.\n",
    "category_sales = invoices.groupby('category')['price'].sum().sort_values(ascending=False)\n",
    "top_categories = category_sales.head(3)\n",
    "print(f\"The three most popular categories by total sales are {(top_categories.index.tolist())}.\")"
   ]
  },
  {
   "cell_type": "code",
   "execution_count": 177,
   "id": "48f02229-15e5-4efb-a8e4-97d49e95ffcf",
   "metadata": {},
   "outputs": [
    {
     "name": "stdout",
     "output_type": "stream",
     "text": [
      "The total sales attributed to customers over 45 is 22370553.27.\n"
     ]
    }
   ],
   "source": [
    "#2 What are the total sales attributed to customers over the age of 45?\n",
    "sales_over_45 = merged[merged['age'] > 45]['price'].sum()\n",
    "print(f\"The total sales attributed to customers over 45 is {sales_over_45:.2f}.\")"
   ]
  },
  {
   "cell_type": "code",
   "execution_count": 220,
   "id": "a64fd41a-a7b1-4ce2-a04f-a67eb116004d",
   "metadata": {},
   "outputs": [
    {
     "data": {
      "image/png": "[encoded data removed]",
      "text/plain": [
       "<Figure size 1200x600 with 1 Axes>"
      ]
     },
     "metadata": {},
     "output_type": "display_data"
    }
   ],
   "source": [
    "#3. How is the data distributed across different invoice dates? Are there any seasonal trends or patterns? (Use a graph for this.)\n",
    "#We can do this by looking at the sales per month, to see if there are patterns or trends.\n",
    "merged['invoice_date'] = pd.to_datetime(merged['invoice_date'], format='%d/%m/%Y')\n",
    "monthly_sales = merged.groupby(merged['invoice_date'].dt.to_period('M'))['price'].sum()\n",
    "\n",
    "plt.figure(figsize=(12, 6))\n",
    "monthly_sales.plot(kind='bar')\n",
    "plt.title('Monthly Sales DIstribution')\n",
    "plt.xlabel('Month')\n",
    "plt.ylabel('Sales')\n",
    "plt.tight_layout\n",
    "plt.show()"
   ]
  },
  {
   "cell_type": "code",
   "execution_count": null,
   "id": "a2f1e4fc-42ab-4f38-9373-126753d1684a",
   "metadata": {},
   "outputs": [],
   "source": [
    "#HARD QUESTION"
   ]
  },
  {
   "cell_type": "code",
   "execution_count": 224,
   "id": "52025c88-059d-4265-908d-62cb22713ced",
   "metadata": {},
   "outputs": [
    {
     "name": "stdout",
     "output_type": "stream",
     "text": [
      "decade_age       10.0-19.0   20.0-29.0   30.0-39.0   40.0-49.0   50.0-59.0  \\\n",
      "category                                                                     \n",
      "Books              3469.35    21619.05    22997.70    23361.30    20664.60   \n",
      "Clothing         518238.16  2818351.36  3074919.76  3066817.60  2803647.44   \n",
      "Cosmetics         29681.80   165079.60   198054.86   181343.60   160932.28   \n",
      "Food & Beverage    3645.31    20428.38    23744.20    24460.71    19999.52   \n",
      "Shoes            274277.69  1630061.72  1912141.62  1889335.16  1591650.84   \n",
      "Souvenir           3296.13    15295.92    17548.08    17759.22    15084.78   \n",
      "Technology       287700.00  1426950.00  1669500.00  1630650.00  1220100.00   \n",
      "Toys              17203.20   102466.56   115297.28   106910.72    94115.84   \n",
      "\n",
      "decade_age        60.0-69.0   70.0-79.0   80.0-89.0      nan-nan  \n",
      "category                                                          \n",
      "Books              21513.00    15437.85     7575.00     90339.45  \n",
      "Clothing         2910776.00  2117064.40  1228827.60  12537042.32  \n",
      "Cosmetics         176627.04   114132.62    71236.32    751518.78  \n",
      "Food & Beverage    22190.89    14968.26     8561.51     93569.93  \n",
      "Shoes            1618058.32  1210542.89   708200.60   7301068.05  \n",
      "Souvenir           15331.11    10592.19     6545.34     72984.06  \n",
      "Technology       1529850.00   977550.00   548100.00   6481650.00  \n",
      "Toys              100244.48    74475.52    43043.84    432947.20  \n"
     ]
    }
   ],
   "source": [
    "#1. Create a pivot table showing the breakdown of sales across these dimensions, in this order: category, decade age range\n",
    "#Sort ages into decades first\n",
    "def age_to_decade(age):\n",
    "    return f\"{(age // 10) * 10}-{(age // 10) * 10 + 9}\"\n",
    "merged['decade_age'] = merged['age'].apply(age_to_decade)\n",
    "pivot_table = pd.pivot_table(merged, values = 'price', index= 'category', columns ='decade_age', aggfunc='sum', fill_value=0)\n",
    "print(pivot_table)"
   ]
  },
  {
   "cell_type": "code",
   "execution_count": null,
   "id": "f771e39d-55c0-4e90-856c-6eafe0bf643d",
   "metadata": {},
   "outputs": [],
   "source": []
  }
 ],
 "metadata": {
  "kernelspec": {
   "display_name": "Python 3 (ipykernel)",
   "language": "python",
   "name": "python3"
  },
  "language_info": {
   "codemirror_mode": {
    "name": "ipython",
    "version": 3
   },
   "file_extension": ".py",
   "mimetype": "text/x-python",
   "name": "python",
   "nbconvert_exporter": "python",
   "pygments_lexer": "ipython3",
   "version": "3.11.7"
  }
 },
 "nbformat": 4,
 "nbformat_minor": 5
}
