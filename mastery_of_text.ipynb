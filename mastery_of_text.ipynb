{
 "cells": [
  {
   "cell_type": "code",
   "execution_count": 5,
   "id": "bc63bf2a-df3e-4496-aa4e-4dde3f0650fc",
   "metadata": {
    "editable": true,
    "slideshow": {
     "slide_type": ""
    },
    "tags": []
   },
   "outputs": [
    {
     "name": "stdout",
     "output_type": "stream",
     "text": [
      "How many lines does the string have?: 99969\n",
      "How many words does the string have?: 795227\n",
      "How many times does the word \"apostle\", ignoring capitalization, appear in the string?: 47\n",
      "What is the most common word, ignoring capitalization, in the string?: \"the\" appearing 64309 times\n"
     ]
    }
   ],
   "source": [
    "import urllib.request\n",
    "\n",
    "url = 'https://www.gutenberg.org/cache/epub/10/pg10.txt'\n",
    "response = urllib.request.urlopen(url)\n",
    "pg10 = response.read().decode('utf-8')\n",
    "\n",
    "num_lines = pg10.count('\\n') + 1\n",
    "\n",
    "num_words = 0\n",
    "word_counts = {}\n",
    "apostle_count = 0\n",
    "\n",
    "def process_word(word):\n",
    "    global num_words, apostle_count\n",
    "    word = word.lower()\n",
    "    num_words += 1\n",
    "    if word in word_counts:\n",
    "        word_counts[word] += 1\n",
    "    else:\n",
    "        word_counts[word] = 1\n",
    "    if word == \"apostle\":\n",
    "        apostle_count += 1\n",
    "\n",
    "current_word = []\n",
    "for char in pg10:\n",
    "    if char.isalpha():\n",
    "        current_word.append(char.lower())\n",
    "    elif current_word:\n",
    "        process_word(''.join(current_word))\n",
    "        current_word = []\n",
    "\n",
    "if current_word:\n",
    "    process_word(''.join(current_word))\n",
    "\n",
    "most_common_word = None\n",
    "most_common_count = 0\n",
    "for word, count in word_counts.items():\n",
    "    if count > most_common_count:\n",
    "        most_common_word = word\n",
    "        most_common_count = count\n",
    "\n",
    "print(f'How many lines does the string have?: {num_lines}')\n",
    "print(f'How many words does the string have?: {num_words}')\n",
    "print(f'How many times does the word \"apostle\", ignoring capitalization, appear in the string?: {apostle_count}')\n",
    "print(f'What is the most common word, ignoring capitalization, in the string?: \"{most_common_word}\" appearing {most_common_count} times')"
   ]
  },
  {
   "cell_type": "code",
   "execution_count": null,
   "id": "d71617cb-abae-4de8-bf96-f2db2be23889",
   "metadata": {},
   "outputs": [],
   "source": []
  }
 ],
 "metadata": {
  "kernelspec": {
   "display_name": "Python 3 (ipykernel)",
   "language": "python",
   "name": "python3"
  },
  "language_info": {
   "codemirror_mode": {
    "name": "ipython",
    "version": 3
   },
   "file_extension": ".py",
   "mimetype": "text/x-python",
   "name": "python",
   "nbconvert_exporter": "python",
   "pygments_lexer": "ipython3",
   "version": "3.11.7"
  }
 },
 "nbformat": 4,
 "nbformat_minor": 5
}
